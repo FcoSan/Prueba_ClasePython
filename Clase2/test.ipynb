{
  "nbformat": 4,
  "nbformat_minor": 0,
  "metadata": {
    "colab": {
      "name": "Untitled0.ipynb",
      "provenance": [],
      "authorship_tag": "ABX9TyPuvI+UXCJwyMxUw9tqsAKf",
      "include_colab_link": true
    },
    "kernelspec": {
      "name": "python3",
      "display_name": "Python 3"
    },
    "language_info": {
      "name": "python"
    }
  },
  "cells": [
    {
      "cell_type": "markdown",
      "metadata": {
        "id": "view-in-github",
        "colab_type": "text"
      },
      "source": [
        "<a href=\"https://colab.research.google.com/github/FcoSan/Prueba_ClasePython/blob/main/Clase2/test.ipynb\" target=\"_parent\"><img src=\"https://colab.research.google.com/assets/colab-badge.svg\" alt=\"Open In Colab\"/></a>"
      ]
    },
    {
      "cell_type": "code",
      "execution_count": null,
      "metadata": {
        "colab": {
          "base_uri": "https://localhost:8080/"
        },
        "id": "mP9MZuqBL_XE",
        "outputId": "32174863-9e22-4965-bdbb-126369811fc0"
      },
      "outputs": [
        {
          "output_type": "execute_result",
          "data": {
            "text/plain": [
              "2"
            ]
          },
          "metadata": {},
          "execution_count": 1
        }
      ],
      "source": [
        "1 + 1"
      ]
    },
    {
      "cell_type": "code",
      "source": [
        "print (\"hola CTIC UNI\")"
      ],
      "metadata": {
        "colab": {
          "base_uri": "https://localhost:8080/"
        },
        "id": "UneQ_fbfMJkd",
        "outputId": "1d36da94-2df2-46b7-9fe4-6396624066a7"
      },
      "execution_count": null,
      "outputs": [
        {
          "output_type": "stream",
          "name": "stdout",
          "text": [
            "hola CTIC UNI\n"
          ]
        }
      ]
    },
    {
      "cell_type": "code",
      "source": [
        "print (\"este es mi avance del día\")"
      ],
      "metadata": {
        "id": "544vawAkNQms",
        "outputId": "56a1d6cf-25d5-4801-910d-814c71c6da66",
        "colab": {
          "base_uri": "https://localhost:8080/"
        }
      },
      "execution_count": 1,
      "outputs": [
        {
          "output_type": "stream",
          "name": "stdout",
          "text": [
            "este es mi avance del día\n"
          ]
        }
      ]
    }
  ]
}